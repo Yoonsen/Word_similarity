{
 "cells": [
  {
   "cell_type": "code",
   "execution_count": 1,
   "id": "e47d31c6-fe19-4020-ad7a-e152d11855ca",
   "metadata": {},
   "outputs": [],
   "source": [
    "import dhlab as dh\n",
    "import requests\n",
    "import pandas as pd"
   ]
  },
  {
   "cell_type": "code",
   "execution_count": 2,
   "id": "335ec121-04d1-4db8-8a53-b6c1fa1e0e7c",
   "metadata": {},
   "outputs": [],
   "source": [
    "base_url = \"https://api.nb.no/dhlab/similarity\""
   ]
  },
  {
   "cell_type": "code",
   "execution_count": 3,
   "id": "24ad5065-ab04-4b9b-8a81-de565cbe54ec",
   "metadata": {},
   "outputs": [],
   "source": [
    "import re\n",
    "from IPython.display import HTML\n",
    "\n",
    "def display_finds(r, num_rows, num_columns, width=500):\n",
    "    \"\"\"A list of urls in r is displayed in a grid layout with specified number of rows and columns.\"\"\"\n",
    "    base = \"https://www.nb.no/items/\"\n",
    "    # Initialize the rows list which will contain HTML string for each row\n",
    "    rows_html = []\n",
    "    # Calculate total number of items to display, based on the specified rows and columns\n",
    "    total_items = num_rows * num_columns\n",
    "    # Ensure we don't try to display more items than we have\n",
    "    r = r[:total_items]\n",
    "    \n",
    "    # Split the list into rows with the specified number of columns\n",
    "    for row_start in range(0, len(r), num_columns):\n",
    "        row_items = r[row_start:row_start+num_columns]\n",
    "        # For each row, create a list of cell HTML strings\n",
    "        cells_html = []\n",
    "        for i, item in enumerate(row_items):\n",
    "            urnstring = re.findall(\"URN[^/]*\", item)[0]\n",
    "            prefix, doctyp, urn, page = urnstring.split('_')\n",
    "            cell_html = f\"<td><a href='{base}{prefix}_{doctyp}_{urn}?page={int(page) + 1}' target='_'><img src='{item}' width={width}></a>{row_start+i}</td>\"\n",
    "            cells_html.append(cell_html)\n",
    "        # Join the cell HTML strings into a row and add it to the rows list\n",
    "        rows_html.append(f\"<tr>{' '.join(cells_html)}</tr>\")\n",
    "\n",
    "    # Join all rows into the final HTML table\n",
    "    html_table = f\"<table>{' '.join(rows_html)}</table>\"\n",
    "    return HTML(f\"\"\"<html><head></head><body>{html_table}</body></html>\"\"\")\n",
    "import numpy as np"
   ]
  },
  {
   "cell_type": "code",
   "execution_count": 4,
   "id": "9f459203-8b6f-4d20-946e-39c9a044fe5a",
   "metadata": {},
   "outputs": [],
   "source": [
    "def collections():\n",
    "    r = requests.get(f\"{base_url}/collections\")\n",
    "    if r.status_code == 200:\n",
    "        res = r.text\n",
    "    else:\n",
    "        res = \"\"\n",
    "    return res"
   ]
  },
  {
   "cell_type": "code",
   "execution_count": 5,
   "id": "2ca5ce26-cda4-4145-8ab2-66d9269581b0",
   "metadata": {},
   "outputs": [],
   "source": [
    "def words(word=None, collection_name=None):\n",
    "    params = locals()\n",
    "    r = requests.get(f\"{base_url}/sim_words\", params=params)\n",
    "    if r.status_code == 200:\n",
    "        res = pd.DataFrame(r.json(), columns=['word','score'])\n",
    "    else:\n",
    "        res = pd.DataFrame()\n",
    "    return res"
   ]
  },
  {
   "cell_type": "code",
   "execution_count": 6,
   "id": "e28ef0e3-7d08-40d4-81cb-c1f63b76d0db",
   "metadata": {},
   "outputs": [],
   "source": [
    "def image(search=None, hits=10):\n",
    "    params = locals()\n",
    "    r = requests.get(f\"{base_url}/images\", params=params)\n",
    "    if r.status_code == 200:\n",
    "        res = r.json()\n",
    "    else:\n",
    "        print(r.status_code)\n",
    "        res = \"\"\n",
    "    return res"
   ]
  },
  {
   "cell_type": "code",
   "execution_count": 7,
   "id": "898962d3-7129-4a23-aaa9-30c40f8f096a",
   "metadata": {},
   "outputs": [],
   "source": [
    "def sim_image(image_url=None, limit=20):\n",
    "    params = locals()\n",
    "    r = requests.get(f\"{base_url}/sim_images\", params=params)\n",
    "    if r.status_code == 200:\n",
    "        res = r.json()\n",
    "    else:\n",
    "        print(r.status_code)\n",
    "        res = \"\"\n",
    "    return res"
   ]
  },
  {
   "cell_type": "code",
   "execution_count": 8,
   "id": "fa6c7239-9d48-4dfc-9b58-1e3bf8714db4",
   "metadata": {},
   "outputs": [],
   "source": [
    "ims = image(\"eskimo\", hits=20)"
   ]
  },
  {
   "cell_type": "code",
   "execution_count": 9,
   "id": "1c888a4c-877b-4aed-93a6-8e3a9abe9055",
   "metadata": {},
   "outputs": [
    {
     "data": {
      "text/html": [
       "<html><head></head><body><table><tr><td><a href='https://www.nb.no/items/URN:NBN:no-nb_digibok_2009052903024?page=86' target='_'><img src='https://www.nb.no/services/image/resolver/URN:NBN:no-nb_digibok_2009052903024_0085/306,530,1549,2335/387,/0/default.jpg' width=500></a>0</td> <td><a href='https://www.nb.no/items/URN:NBN:no-nb_digibok_2009052903024?page=116' target='_'><img src='https://www.nb.no/services/image/resolver/URN:NBN:no-nb_digibok_2009052903024_0115/222,551,1594,2365/398,/0/default.jpg' width=500></a>1</td> <td><a href='https://www.nb.no/items/URN:NBN:no-nb_digibok_2009060503005?page=293' target='_'><img src='https://www.nb.no/services/image/resolver/URN:NBN:no-nb_digibok_2009060503005_0292/462,925,1263,1383/315,/0/default.jpg' width=500></a>2</td> <td><a href='https://www.nb.no/items/URN:NBN:no-nb_digibok_2009060503005?page=294' target='_'><img src='https://www.nb.no/services/image/resolver/URN:NBN:no-nb_digibok_2009060503005_0293/261,503,1497,2295/374,/0/default.jpg' width=500></a>3</td></tr> <tr><td><a href='https://www.nb.no/items/URN:NBN:no-nb_digibok_2009060503005?page=297' target='_'><img src='https://www.nb.no/services/image/resolver/URN:NBN:no-nb_digibok_2009060503005_0296/647,833,965,1442/482,/0/default.jpg' width=500></a>4</td> <td><a href='https://www.nb.no/items/URN:NBN:no-nb_digibok_2009060503005?page=300' target='_'><img src='https://www.nb.no/services/image/resolver/URN:NBN:no-nb_digibok_2009060503005_0299/270,470,1498,2298/374,/0/default.jpg' width=500></a>5</td> <td><a href='https://www.nb.no/items/URN:NBN:no-nb_digibok_2009060503005?page=304' target='_'><img src='https://www.nb.no/services/image/resolver/URN:NBN:no-nb_digibok_2009060503005_0303/361,1218,1372,807/685,403/0/default.jpg' width=500></a>6</td> <td><a href='https://www.nb.no/items/URN:NBN:no-nb_digibok_2009060503005?page=317' target='_'><img src='https://www.nb.no/services/image/resolver/URN:NBN:no-nb_digibok_2009060503005_0316/466,1045,1345,1146/336,286/0/default.jpg' width=500></a>7</td></tr> <tr><td><a href='https://www.nb.no/items/URN:NBN:no-nb_digibok_2009060503005?page=356' target='_'><img src='https://www.nb.no/services/image/resolver/URN:NBN:no-nb_digibok_2009060503005_0355/1134,1276,501,587/501,/0/default.jpg' width=500></a>8</td> <td><a href='https://www.nb.no/items/URN:NBN:no-nb_digibok_2009060503005?page=357' target='_'><img src='https://www.nb.no/services/image/resolver/URN:NBN:no-nb_digibok_2009060503005_0356/618,1098,1351,1038/337,259/0/default.jpg' width=500></a>9</td> <td><a href='https://www.nb.no/items/URN:NBN:no-nb_digibok_2009060503005?page=358' target='_'><img src='https://www.nb.no/services/image/resolver/URN:NBN:no-nb_digibok_2009060503005_0357/980,874,600,903/299,/0/default.jpg' width=500></a>10</td> <td><a href='https://www.nb.no/items/URN:NBN:no-nb_digibok_2009060503005?page=367' target='_'><img src='https://www.nb.no/services/image/resolver/URN:NBN:no-nb_digibok_2009060503005_0366/473,1072,1377,1011/688,505/0/default.jpg' width=500></a>11</td></tr> <tr><td><a href='https://www.nb.no/items/URN:NBN:no-nb_digibok_2009060503006?page=388' target='_'><img src='https://www.nb.no/services/image/resolver/URN:NBN:no-nb_digibok_2009060503006_0387/470,841,1116,1361/278,/0/default.jpg' width=500></a>12</td> <td><a href='https://www.nb.no/items/URN:NBN:no-nb_digibok_2009060503006?page=407' target='_'><img src='https://www.nb.no/services/image/resolver/URN:NBN:no-nb_digibok_2009060503006_0406/177,975,1559,1079/389,269/0/default.jpg' width=500></a>13</td> <td><a href='https://www.nb.no/items/URN:NBN:no-nb_digibok_2009060503006?page=456' target='_'><img src='https://www.nb.no/services/image/resolver/URN:NBN:no-nb_digibok_2009060503006_0455/269,1041,1398,1080/349,269/0/default.jpg' width=500></a>14</td> <td><a href='https://www.nb.no/items/URN:NBN:no-nb_digibok_2009092410001?page=183' target='_'><img src='https://www.nb.no/services/image/resolver/URN:NBN:no-nb_digibok_2009092410001_0182/513,356,619,2371/309,/0/default.jpg' width=500></a>15</td></tr> <tr><td><a href='https://www.nb.no/items/URN:NBN:no-nb_digibok_2009092410001?page=236' target='_'><img src='https://www.nb.no/services/image/resolver/URN:NBN:no-nb_digibok_2009092410001_0235/161,833,1371,1117/342,279/0/default.jpg' width=500></a>16</td> <td><a href='https://www.nb.no/items/URN:NBN:no-nb_digibok_2009092410001?page=420' target='_'><img src='https://www.nb.no/services/image/resolver/URN:NBN:no-nb_digibok_2009092410001_0419/152,810,1330,1085/332,271/0/default.jpg' width=500></a>17</td> <td><a href='https://www.nb.no/items/URN:NBN:no-nb_digibok_2009092810001?page=86' target='_'><img src='https://www.nb.no/services/image/resolver/URN:NBN:no-nb_digibok_2009092810001_0085/285,566,1473,2306/367,/0/default.jpg' width=500></a>18</td> <td><a href='https://www.nb.no/items/URN:NBN:no-nb_digibok_2009092810001?page=116' target='_'><img src='https://www.nb.no/services/image/resolver/URN:NBN:no-nb_digibok_2009092810001_0115/303,517,1545,2351/385,/0/default.jpg' width=500></a>19</td></tr></table></body></html>"
      ],
      "text/plain": [
       "<IPython.core.display.HTML object>"
      ]
     },
     "execution_count": 9,
     "metadata": {},
     "output_type": "execute_result"
    }
   ],
   "source": [
    "display_finds([x[0] for x in ims.values()],10,4)"
   ]
  },
  {
   "cell_type": "code",
   "execution_count": 10,
   "id": "40c289dd-d739-4c72-ac92-eeade018973e",
   "metadata": {},
   "outputs": [
    {
     "data": {
      "text/plain": [
       "[['https://www.nb.no/services/image/resolver/URN:NBN:no-nb_digibok_2009060503005_0292/462,925,1263,1383/315,/0/default.jpg',\n",
       "  0.99999994],\n",
       " ['https://www.nb.no/services/image/resolver/URN:NBN:no-nb_digibok_2013040824075_0645/358,874,1280,1403/320,/0/default.jpg',\n",
       "  0.97438085],\n",
       " ['https://www.nb.no/services/image/resolver/URN:NBN:no-nb_digibok_2009101212001_0459/360,784,1259,1395/314,/0/default.jpg',\n",
       "  0.9618212],\n",
       " ['https://www.nb.no/services/image/resolver/URN:NBN:no-nb_digibok_2009101910001_0639/457,722,1266,1384/316,/0/default.jpg',\n",
       "  0.95577365],\n",
       " ['https://www.nb.no/services/image/resolver/URN:NBN:no-nb_digibok_2009101212001_0457/262,923,1445,1193/361,298/0/default.jpg',\n",
       "  0.88135064],\n",
       " ['https://www.nb.no/services/image/resolver/URN:NBN:no-nb_digibok_2016052707018_0453/429,594,1426,1995/356,/0/default.jpg',\n",
       "  0.88058984],\n",
       " ['https://www.nb.no/services/image/resolver/URN:NBN:no-nb_digibok_2015032508049_0087/432,846,1091,1410/272,/0/default.jpg',\n",
       "  0.8784076],\n",
       " ['https://www.nb.no/services/image/resolver/URN:NBN:no-nb_digibok_2009092410001_0408/430,756,1371,1190/342,297/0/default.jpg',\n",
       "  0.8724252],\n",
       " ['https://www.nb.no/services/image/resolver/URN:NBN:no-nb_digibok_2009101910001_0637/350,895,1445,1184/361,295/0/default.jpg',\n",
       "  0.87177527],\n",
       " ['https://www.nb.no/services/image/resolver/URN:NBN:no-nb_digibok_2009101910001_0679/755,938,603,903/301,/0/default.jpg',\n",
       "  0.8698578]]"
      ]
     },
     "execution_count": 10,
     "metadata": {},
     "output_type": "execute_result"
    }
   ],
   "source": [
    "sim_image(image_url='https://www.nb.no/services/image/resolver/URN:NBN:no-nb_digibok_2009060503005_0292/462,925,1263,1383/315,/0/default.jpg', limit=10)"
   ]
  },
  {
   "cell_type": "code",
   "execution_count": 11,
   "id": "bdf505f4-0d02-4da7-8479-195b5b8f5724",
   "metadata": {},
   "outputs": [
    {
     "data": {
      "text/plain": [
       "'vss_1850_cosvss_dewey_codevss_1800_cosvss_deweyimages_1900_cos'"
      ]
     },
     "execution_count": 11,
     "metadata": {},
     "output_type": "execute_result"
    }
   ],
   "source": [
    "collections()"
   ]
  },
  {
   "cell_type": "code",
   "execution_count": 13,
   "id": "3177e6f1-024b-4719-990e-92ac88aa0f0a",
   "metadata": {},
   "outputs": [
    {
     "ename": "TypeError",
     "evalue": "words() got an unexpected keyword argument 'limit'",
     "output_type": "error",
     "traceback": [
      "\u001b[0;31m---------------------------------------------------------------------------\u001b[0m",
      "\u001b[0;31mTypeError\u001b[0m                                 Traceback (most recent call last)",
      "Cell \u001b[0;32mIn[13], line 1\u001b[0m\n\u001b[0;32m----> 1\u001b[0m \u001b[43mwords\u001b[49m\u001b[43m(\u001b[49m\u001b[43mword\u001b[49m\u001b[38;5;241;43m=\u001b[39;49m\u001b[38;5;124;43m'\u001b[39;49m\u001b[38;5;124;43mHottentotterne\u001b[39;49m\u001b[38;5;124;43m'\u001b[39;49m\u001b[43m,\u001b[49m\u001b[43m \u001b[49m\u001b[43mcollection_name\u001b[49m\u001b[38;5;241;43m=\u001b[39;49m\u001b[38;5;124;43m\"\u001b[39;49m\u001b[38;5;124;43mvss_1850_cos\u001b[39;49m\u001b[38;5;124;43m\"\u001b[39;49m\u001b[43m,\u001b[49m\u001b[43m \u001b[49m\u001b[43mlimit\u001b[49m\u001b[38;5;241;43m=\u001b[39;49m\u001b[38;5;241;43m5\u001b[39;49m\u001b[43m)\u001b[49m\n",
      "\u001b[0;31mTypeError\u001b[0m: words() got an unexpected keyword argument 'limit'"
     ]
    }
   ],
   "source": [
    "words(word='Hottentotterne', collection_name=\"vss_1850_cos\", limit=5)"
   ]
  },
  {
   "cell_type": "code",
   "execution_count": 20,
   "id": "0d1f4230-0cdd-4010-bd38-e817de6f5190",
   "metadata": {},
   "outputs": [
    {
     "name": "stdout",
     "output_type": "stream",
     "text": [
      "Hottentotterne Hottentotterne, Negerne, Kafferne, Malayerne, Buskmændene, Eskimoerne, Kirgiserne, Eskimoer, Hottentotter, Baskerne, Negrene, Mongoler, Hinduerne, Arabere, Samojederne, Beduinerne, Indierne, Kalmukkerne, Indianerne, Slaverne\n",
      "Kystbyen Kystbyen, Sabinerbjærgene, Nanterre, Syracusa, NyMexiko, Pueblo, Mowa, Torres-Strædet, Launceston, Port-Said, Sjenin, Gabes, Tripolitza, Sciacca, Aigues-Mortes, Manyanga, Miramichi, Minatitlan, Kajrasol, Gabon\n"
     ]
    }
   ],
   "source": [
    "for x in \"Hottentotterne Kystbyen\".split():\n",
    "    print(x,\n",
    "', '.join([x['word'] for _, x in words(x, collection_name='vss_1850_cos').iterrows()]))"
   ]
  }
 ],
 "metadata": {
  "kernelspec": {
   "display_name": "Python 3 (ipykernel)",
   "language": "python",
   "name": "python3"
  },
  "language_info": {
   "codemirror_mode": {
    "name": "ipython",
    "version": 3
   },
   "file_extension": ".py",
   "mimetype": "text/x-python",
   "name": "python",
   "nbconvert_exporter": "python",
   "pygments_lexer": "ipython3",
   "version": "3.11.5"
  }
 },
 "nbformat": 4,
 "nbformat_minor": 5
}
